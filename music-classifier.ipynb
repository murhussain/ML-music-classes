{
 "cells": [
  {
   "cell_type": "markdown",
   "source": [
    "# Importing the necessary libraries"
   ],
   "metadata": {
    "collapsed": false
   },
   "id": "5f8af79126e60e11"
  },
  {
   "cell_type": "code",
   "execution_count": 70,
   "outputs": [],
   "source": [
    "import numpy as np\n",
    "import pandas as pd\n",
    "import matplotlib.pyplot as plt\n",
    "import seaborn as sns\n",
    "from sklearn.tree import DecisionTreeClassifier\n",
    "from sklearn.model_selection import train_test_split\n",
    "from sklearn.metrics import accuracy_score"
   ],
   "metadata": {
    "collapsed": false,
    "ExecuteTime": {
     "end_time": "2024-06-10T18:57:42.111079100Z",
     "start_time": "2024-06-10T18:57:42.060564400Z"
    }
   },
   "id": "d6573b0102f1fc64"
  },
  {
   "cell_type": "markdown",
   "source": [
    "# Loading the dataset"
   ],
   "metadata": {
    "collapsed": false
   },
   "id": "d877c6d98f902c9a"
  },
  {
   "cell_type": "code",
   "execution_count": 71,
   "outputs": [],
   "source": [
    "music_data = pd.read_csv('./data/music.csv')\n",
    "\n",
    "# Defining the features and the target variable\n",
    "X = music_data.drop(columns=['genre'])\n",
    "y = music_data['genre']\n"
   ],
   "metadata": {
    "collapsed": false,
    "ExecuteTime": {
     "end_time": "2024-06-10T18:57:42.163486900Z",
     "start_time": "2024-06-10T18:57:42.079537700Z"
    }
   },
   "id": "5677b6aa8f537c73"
  },
  {
   "cell_type": "markdown",
   "source": [
    "# Training the model for entire dataset"
   ],
   "metadata": {
    "collapsed": false
   },
   "id": "e7fb4aed403ace4f"
  },
  {
   "cell_type": "code",
   "execution_count": 72,
   "outputs": [
    {
     "name": "stdout",
     "output_type": "stream",
     "text": [
      "['HipHop' 'Dance']\n"
     ]
    }
   ],
   "source": [
    "# Creating the model\n",
    "model = DecisionTreeClassifier()\n",
    "\n",
    "# Training the model to learn the patterns in the data\n",
    "model.fit(X, y)\n",
    "\n",
    "# Making predictions with a DataFrame to include feature names\n",
    "input_data = pd.DataFrame([[21, 1], [22, 0]], columns=X.columns)\n",
    "predictions = model.predict(input_data)\n",
    "\n",
    "print(predictions)"
   ],
   "metadata": {
    "collapsed": false,
    "ExecuteTime": {
     "end_time": "2024-06-10T18:57:42.163486900Z",
     "start_time": "2024-06-10T18:57:42.097226600Z"
    }
   },
   "id": "6e33aeda09eb2834"
  },
  {
   "cell_type": "markdown",
   "source": [
    "# Splitting the dataset into training and testing sets"
   ],
   "metadata": {
    "collapsed": false
   },
   "id": "a8fe8cc66d88142b"
  },
  {
   "cell_type": "code",
   "execution_count": 73,
   "outputs": [],
   "source": [
    "\"\"\"\n",
    "    The dataset is split into two sets, the training set and the testing set. The model is trained\n",
    "    with the training set and tested with the testing set. This is done to evaluate the performance\n",
    "    of the model.\n",
    "\"\"\"\n",
    "\n",
    "train_X, test_X, train_y, test_y = train_test_split(X, y, test_size=0.2)\n",
    "\n",
    "# Training the model with the training set\n",
    "model.fit(train_X, train_y)\n",
    "\n",
    "# Making predictions with the testing set\n",
    "predictions = model.predict(test_X)"
   ],
   "metadata": {
    "collapsed": false,
    "ExecuteTime": {
     "end_time": "2024-06-10T18:57:42.163486900Z",
     "start_time": "2024-06-10T18:57:42.116856200Z"
    }
   },
   "id": "afae644cbb102a9d"
  },
  {
   "cell_type": "markdown",
   "source": [
    "# Calculating the accuracy of the model"
   ],
   "metadata": {
    "collapsed": false
   },
   "id": "7644406655445067"
  },
  {
   "cell_type": "code",
   "execution_count": 74,
   "outputs": [
    {
     "name": "stdout",
     "output_type": "stream",
     "text": [
      "0.5\n"
     ]
    }
   ],
   "source": [
    "\"\"\"\n",
    "    The accuracy of the model is calculated by comparing the predictions made by the model with \n",
    "    the actual values in the testing set.\n",
    "\"\"\"\n",
    "\n",
    "score = accuracy_score(test_y, predictions)\n",
    "\n",
    "print(score)"
   ],
   "metadata": {
    "collapsed": false,
    "ExecuteTime": {
     "end_time": "2024-06-10T18:57:42.163486900Z",
     "start_time": "2024-06-10T18:57:42.126785500Z"
    }
   },
   "id": "f1851afbe2ceb84f"
  },
  {
   "cell_type": "markdown",
   "source": [
    "# Model Persistence"
   ],
   "metadata": {
    "collapsed": false
   },
   "id": "a9cbf94c60df774a"
  },
  {
   "cell_type": "code",
   "execution_count": 74,
   "outputs": [],
   "source": [],
   "metadata": {
    "collapsed": false,
    "ExecuteTime": {
     "end_time": "2024-06-10T18:57:42.163486900Z",
     "start_time": "2024-06-10T18:57:42.134281200Z"
    }
   },
   "id": "8769442746389c85"
  },
  {
   "cell_type": "code",
   "execution_count": 74,
   "outputs": [],
   "source": [],
   "metadata": {
    "collapsed": false,
    "ExecuteTime": {
     "end_time": "2024-06-10T18:57:42.163486900Z",
     "start_time": "2024-06-10T18:57:42.143841200Z"
    }
   },
   "id": "6f35e82cad36006e"
  }
 ],
 "metadata": {
  "kernelspec": {
   "display_name": "Python 3",
   "language": "python",
   "name": "python3"
  },
  "language_info": {
   "codemirror_mode": {
    "name": "ipython",
    "version": 2
   },
   "file_extension": ".py",
   "mimetype": "text/x-python",
   "name": "python",
   "nbconvert_exporter": "python",
   "pygments_lexer": "ipython2",
   "version": "2.7.6"
  }
 },
 "nbformat": 4,
 "nbformat_minor": 5
}
