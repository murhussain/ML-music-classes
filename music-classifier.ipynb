{
 "cells": [
  {
   "cell_type": "markdown",
   "source": [
    "# Importing the necessary libraries"
   ],
   "metadata": {
    "collapsed": false
   },
   "id": "5f8af79126e60e11"
  },
  {
   "cell_type": "code",
   "execution_count": 17,
   "outputs": [],
   "source": [
    "import numpy as np\n",
    "import pandas as pd\n",
    "import matplotlib.pyplot as plt\n",
    "import seaborn as sns\n",
    "from sklearn.tree import DecisionTreeClassifier"
   ],
   "metadata": {
    "collapsed": false,
    "ExecuteTime": {
     "end_time": "2024-06-10T18:18:36.014401300Z",
     "start_time": "2024-06-10T18:18:35.993242400Z"
    }
   },
   "id": "d6573b0102f1fc64"
  },
  {
   "cell_type": "markdown",
   "source": [
    "# Loading the dataset"
   ],
   "metadata": {
    "collapsed": false
   },
   "id": "d877c6d98f902c9a"
  },
  {
   "cell_type": "code",
   "execution_count": 18,
   "outputs": [
    {
     "name": "stdout",
     "output_type": "stream",
     "text": [
      "['HipHop' 'Dance']\n"
     ]
    }
   ],
   "source": [
    "music_data = pd.read_csv('./data/music.csv')\n",
    "\n",
    "X = music_data.drop(columns=['genre'])\n",
    "y = music_data['genre']\n",
    "\n",
    "# Creating the model\n",
    "model = DecisionTreeClassifier()\n",
    "\n",
    "# Training the model to learn the patterns in the data\n",
    "model.fit(X, y)\n",
    "\n",
    "# Making predictions with a DataFrame to include feature names\n",
    "input_data = pd.DataFrame([[21, 1], [22, 0]], columns=X.columns)\n",
    "predictions = model.predict(input_data)\n",
    "\n",
    "print(predictions)"
   ],
   "metadata": {
    "collapsed": false,
    "ExecuteTime": {
     "end_time": "2024-06-10T18:18:36.050695500Z",
     "start_time": "2024-06-10T18:18:36.014401300Z"
    }
   },
   "id": "5677b6aa8f537c73"
  },
  {
   "cell_type": "code",
   "execution_count": 18,
   "outputs": [],
   "source": [],
   "metadata": {
    "collapsed": false,
    "ExecuteTime": {
     "end_time": "2024-06-10T18:18:36.050695500Z",
     "start_time": "2024-06-10T18:18:36.033727700Z"
    }
   },
   "id": "6315a2a96327065b"
  }
 ],
 "metadata": {
  "kernelspec": {
   "display_name": "Python 3",
   "language": "python",
   "name": "python3"
  },
  "language_info": {
   "codemirror_mode": {
    "name": "ipython",
    "version": 2
   },
   "file_extension": ".py",
   "mimetype": "text/x-python",
   "name": "python",
   "nbconvert_exporter": "python",
   "pygments_lexer": "ipython2",
   "version": "2.7.6"
  }
 },
 "nbformat": 4,
 "nbformat_minor": 5
}
